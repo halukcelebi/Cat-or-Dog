{
 "cells": [
  {
   "cell_type": "raw",
   "id": "6f2262b4",
   "metadata": {},
   "source": [
    "project website : https://www.kaggle.com/competitions/dogs-vs-cats/overview"
   ]
  },
  {
   "cell_type": "code",
   "execution_count": 1,
   "id": "b956d18b",
   "metadata": {},
   "outputs": [],
   "source": [
    "import pandas as pd\n",
    "import numpy as np\n",
    "from sklearn.metrics import roc_curve\n",
    "import matplotlib.pyplot as plt\n",
    "from PIL import Image\n",
    "import numpy as np\n",
    "import os\n",
    "import cv2\n",
    "import keras\n",
    "#from tensorflow.keras.utils import np_utils\n",
    "\n",
    "from keras.models import Sequential\n",
    "from keras.layers import Conv2D,MaxPooling2D,Dense,Flatten,Dropout\n",
    "            \n",
    "from random import shuffle\n",
    "from tqdm import tqdm  \n",
    "import scipy\n",
    "import skimage\n",
    "from skimage.transform import resize\n",
    "import random"
   ]
  },
  {
   "cell_type": "code",
   "execution_count": 3,
   "id": "3e940177",
   "metadata": {},
   "outputs": [],
   "source": [
    "data=[]\n",
    "labels=[]\n",
    "file_list=os.listdir(\"./train\")\n",
    "for file_name in file_list:\n",
    "    try:\n",
    "        image=cv2.imread(\"./train/\"+file_name)\n",
    "        image_from_array = Image.fromarray(image, 'RGB')\n",
    "        size_image = image_from_array.resize((50, 50))\n",
    "        data.append(np.array(size_image))\n",
    "        if \"dog\" in file_name: \n",
    "            #print(file_name)\n",
    "            labels.append(1)\n",
    "        else:\n",
    "            labels.append(0)\n",
    "        \n",
    "        #labels.append(0)\n",
    "    except AttributeError:\n",
    "        print(\"\")"
   ]
  },
  {
   "cell_type": "code",
   "execution_count": 4,
   "id": "d2790f05",
   "metadata": {},
   "outputs": [],
   "source": [
    "X = np.array(data)\n",
    "label = np.array(labels)"
   ]
  },
  {
   "cell_type": "code",
   "execution_count": 5,
   "id": "bdced6b3",
   "metadata": {},
   "outputs": [
    {
     "data": {
      "text/plain": [
       "((25000, 50, 50, 3), (25000,))"
      ]
     },
     "execution_count": 5,
     "metadata": {},
     "output_type": "execute_result"
    }
   ],
   "source": [
    "X.shape, label.shape"
   ]
  },
  {
   "cell_type": "code",
   "execution_count": 6,
   "id": "5ce30201",
   "metadata": {},
   "outputs": [],
   "source": [
    "s=np.arange(X.shape[0])\n",
    "np.random.shuffle(s)\n",
    "X=X[s]\n",
    "label=label[s]"
   ]
  },
  {
   "cell_type": "code",
   "execution_count": 7,
   "id": "fe9b3560",
   "metadata": {},
   "outputs": [],
   "source": [
    "#normalization \n",
    "X = X/255;\n",
    "Y = label;"
   ]
  },
  {
   "cell_type": "code",
   "execution_count": 8,
   "id": "45681555",
   "metadata": {},
   "outputs": [],
   "source": [
    "num_classes=len(np.unique(Y))\n",
    "len_data=len(X)"
   ]
  },
  {
   "cell_type": "code",
   "execution_count": 9,
   "id": "021aa69f",
   "metadata": {},
   "outputs": [],
   "source": [
    "(x_train,x_test)=X[(int)(0.1*len_data):],X[:(int)(0.1*len_data)]"
   ]
  },
  {
   "cell_type": "code",
   "execution_count": 10,
   "id": "db5e10e2",
   "metadata": {},
   "outputs": [],
   "source": [
    "(y_train,y_test)=Y[(int)(0.1*len_data):],Y[:(int)(0.1*len_data)]"
   ]
  },
  {
   "cell_type": "code",
   "execution_count": 11,
   "id": "c81af91e",
   "metadata": {},
   "outputs": [],
   "source": [
    "y_train=keras.utils.to_categorical(y_train,num_classes)\n",
    "y_test=keras.utils.to_categorical(y_test,num_classes)"
   ]
  },
  {
   "cell_type": "code",
   "execution_count": 12,
   "id": "79587096",
   "metadata": {},
   "outputs": [],
   "source": [
    "import numpy as np\n",
    "import tensorflow as tf\n",
    "from tensorflow.keras import layers, models\n",
    "\n",
    "# Define the CNN model\n",
    "model = models.Sequential()\n",
    "\n",
    "# Convolutional layers\n",
    "# input layer size is equal to frame pixel size\n",
    "model.add(layers.Conv2D(32, (4, 4), activation='relu', input_shape=(50, 50, 3)))\n",
    "model.add(layers.MaxPooling2D((2, 2)))\n",
    "model.add(layers.Conv2D(256, (4, 4), activation='relu'))\n",
    "model.add(layers.MaxPooling2D((2, 2)))\n",
    "model.add(layers.Conv2D(200, (4, 4), activation='relu'))\n",
    "model.add(layers.MaxPooling2D((2, 2)))\n",
    "\n",
    "# Flatten the output for fully connected layers\n",
    "model.add(layers.Flatten())\n",
    "\n",
    "# Fully connected layers\n",
    "model.add(layers.Dense(264, activation='relu'))\n",
    "model.add(layers.Dense(2, activation='softmax')) "
   ]
  },
  {
   "cell_type": "code",
   "execution_count": 13,
   "id": "2db4746a",
   "metadata": {},
   "outputs": [],
   "source": [
    "model.compile(loss='binary_crossentropy', optimizer='adam', metrics=['accuracy'])"
   ]
  },
  {
   "cell_type": "code",
   "execution_count": 14,
   "id": "37818856",
   "metadata": {},
   "outputs": [
    {
     "name": "stdout",
     "output_type": "stream",
     "text": [
      "Epoch 1/30\n",
      "1013/1013 [==============================] - 51s 49ms/step - loss: 0.6471 - accuracy: 0.6192 - val_loss: 0.6162 - val_accuracy: 0.6542\n",
      "Epoch 2/30\n",
      "1013/1013 [==============================] - 51s 50ms/step - loss: 0.5320 - accuracy: 0.7340 - val_loss: 0.4981 - val_accuracy: 0.7596\n",
      "Epoch 3/30\n",
      "1013/1013 [==============================] - 52s 51ms/step - loss: 0.4514 - accuracy: 0.7861 - val_loss: 0.4910 - val_accuracy: 0.7631\n",
      "Epoch 4/30\n",
      "1013/1013 [==============================] - 53s 52ms/step - loss: 0.3905 - accuracy: 0.8234 - val_loss: 0.4465 - val_accuracy: 0.7907\n",
      "Epoch 5/30\n",
      "1013/1013 [==============================] - 60s 59ms/step - loss: 0.3335 - accuracy: 0.8524 - val_loss: 0.4482 - val_accuracy: 0.7969\n",
      "Epoch 6/30\n",
      "1013/1013 [==============================] - 64s 63ms/step - loss: 0.2772 - accuracy: 0.8790 - val_loss: 0.4470 - val_accuracy: 0.8076\n",
      "Epoch 7/30\n",
      "1013/1013 [==============================] - 64s 63ms/step - loss: 0.2207 - accuracy: 0.9070 - val_loss: 0.5141 - val_accuracy: 0.7924\n",
      "Epoch 8/30\n",
      "1013/1013 [==============================] - 62s 61ms/step - loss: 0.1681 - accuracy: 0.9324 - val_loss: 0.5773 - val_accuracy: 0.7836\n",
      "Epoch 9/30\n",
      "1013/1013 [==============================] - 67s 67ms/step - loss: 0.1227 - accuracy: 0.9525 - val_loss: 0.7268 - val_accuracy: 0.7898\n",
      "Epoch 10/30\n",
      "1013/1013 [==============================] - 64s 63ms/step - loss: 0.1049 - accuracy: 0.9583 - val_loss: 0.7500 - val_accuracy: 0.8000\n",
      "Epoch 11/30\n",
      "1013/1013 [==============================] - 65s 64ms/step - loss: 0.0824 - accuracy: 0.9690 - val_loss: 0.7574 - val_accuracy: 0.8013\n",
      "Epoch 12/30\n",
      "1013/1013 [==============================] - 63s 62ms/step - loss: 0.0690 - accuracy: 0.9752 - val_loss: 1.1182 - val_accuracy: 0.7693\n",
      "Epoch 13/30\n",
      "1013/1013 [==============================] - 58s 57ms/step - loss: 0.0632 - accuracy: 0.9768 - val_loss: 0.9678 - val_accuracy: 0.8027\n",
      "Epoch 14/30\n",
      "1013/1013 [==============================] - 60s 59ms/step - loss: 0.0603 - accuracy: 0.9785 - val_loss: 0.9281 - val_accuracy: 0.7973\n",
      "Epoch 15/30\n",
      "1013/1013 [==============================] - 62s 62ms/step - loss: 0.0503 - accuracy: 0.9829 - val_loss: 1.0404 - val_accuracy: 0.7924\n",
      "Epoch 16/30\n",
      "1013/1013 [==============================] - 60s 59ms/step - loss: 0.0521 - accuracy: 0.9816 - val_loss: 0.9740 - val_accuracy: 0.7929\n",
      "Epoch 17/30\n",
      "1013/1013 [==============================] - 60s 59ms/step - loss: 0.0498 - accuracy: 0.9817 - val_loss: 0.8680 - val_accuracy: 0.7844\n",
      "Epoch 18/30\n",
      "1013/1013 [==============================] - 60s 59ms/step - loss: 0.0380 - accuracy: 0.9854 - val_loss: 1.1650 - val_accuracy: 0.7956\n",
      "Epoch 19/30\n",
      "1013/1013 [==============================] - 59s 58ms/step - loss: 0.0448 - accuracy: 0.9845 - val_loss: 1.0139 - val_accuracy: 0.8080\n",
      "Epoch 20/30\n",
      "1013/1013 [==============================] - 60s 59ms/step - loss: 0.0409 - accuracy: 0.9851 - val_loss: 1.0562 - val_accuracy: 0.7893\n",
      "Epoch 21/30\n",
      "1013/1013 [==============================] - 60s 59ms/step - loss: 0.0333 - accuracy: 0.9882 - val_loss: 1.2971 - val_accuracy: 0.7960\n",
      "Epoch 22/30\n",
      "1013/1013 [==============================] - 60s 59ms/step - loss: 0.0324 - accuracy: 0.9890 - val_loss: 1.3055 - val_accuracy: 0.7924\n",
      "Epoch 23/30\n",
      "1013/1013 [==============================] - 60s 59ms/step - loss: 0.0370 - accuracy: 0.9875 - val_loss: 1.2596 - val_accuracy: 0.8093\n",
      "Epoch 24/30\n",
      "1013/1013 [==============================] - 60s 59ms/step - loss: 0.0337 - accuracy: 0.9874 - val_loss: 1.1868 - val_accuracy: 0.8022\n",
      "Epoch 25/30\n",
      "1013/1013 [==============================] - 60s 59ms/step - loss: 0.0295 - accuracy: 0.9902 - val_loss: 1.2997 - val_accuracy: 0.7938\n",
      "Epoch 26/30\n",
      "1013/1013 [==============================] - 60s 59ms/step - loss: 0.0321 - accuracy: 0.9890 - val_loss: 1.1737 - val_accuracy: 0.7902\n",
      "Epoch 27/30\n",
      "1013/1013 [==============================] - 60s 59ms/step - loss: 0.0290 - accuracy: 0.9898 - val_loss: 1.3287 - val_accuracy: 0.7898\n",
      "Epoch 28/30\n",
      "1013/1013 [==============================] - 59s 59ms/step - loss: 0.0289 - accuracy: 0.9902 - val_loss: 1.2693 - val_accuracy: 0.7933\n",
      "Epoch 29/30\n",
      "1013/1013 [==============================] - 59s 58ms/step - loss: 0.0269 - accuracy: 0.9913 - val_loss: 1.3227 - val_accuracy: 0.8022\n",
      "Epoch 30/30\n",
      "1013/1013 [==============================] - 59s 58ms/step - loss: 0.0308 - accuracy: 0.9881 - val_loss: 1.1247 - val_accuracy: 0.8120\n"
     ]
    }
   ],
   "source": [
    "history = model.fit(x_train, y_train, batch_size=20, epochs=30, validation_split=0.1)"
   ]
  },
  {
   "cell_type": "code",
   "execution_count": 15,
   "id": "bcb70687",
   "metadata": {},
   "outputs": [
    {
     "name": "stdout",
     "output_type": "stream",
     "text": [
      "79/79 - 2s - loss: 1.1847 - accuracy: 0.8004 - 2s/epoch - 20ms/step\n",
      "Test Accuracy: 0.8004000186920166\n"
     ]
    }
   ],
   "source": [
    "test_loss, test_accuracy = model.evaluate(x_test, y_test, verbose=2)\n",
    "print(f\"Test Accuracy: {test_accuracy}\")"
   ]
  },
  {
   "cell_type": "code",
   "execution_count": null,
   "id": "4c3d09ae",
   "metadata": {},
   "outputs": [],
   "source": []
  },
  {
   "cell_type": "code",
   "execution_count": null,
   "id": "377134b4",
   "metadata": {},
   "outputs": [],
   "source": []
  }
 ],
 "metadata": {
  "kernelspec": {
   "display_name": "Python 3 (ipykernel)",
   "language": "python",
   "name": "python3"
  },
  "language_info": {
   "codemirror_mode": {
    "name": "ipython",
    "version": 3
   },
   "file_extension": ".py",
   "mimetype": "text/x-python",
   "name": "python",
   "nbconvert_exporter": "python",
   "pygments_lexer": "ipython3",
   "version": "3.11.5"
  }
 },
 "nbformat": 4,
 "nbformat_minor": 5
}
